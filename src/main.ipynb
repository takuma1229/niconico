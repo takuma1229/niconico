{
 "cells": [
  {
   "cell_type": "code",
   "execution_count": 32,
   "metadata": {},
   "outputs": [],
   "source": [
    "import requests\n",
    "import json\n",
    "filter = json.dumps(\n",
    "    {\n",
    "      \"type\": \"or\",\n",
    "      \"filters\": [\n",
    "      {\n",
    "        \"type\": \"range\",\n",
    "        \"field\": \"startTime\",\n",
    "        # \"from\": f\"{year}-{start}T00:00:00+09:00\",\n",
    "        # \"to\": f\"{year}-{end}T00:00:00+09:00\",\n",
    "        \"include_lower\": True\n",
    "      }\n",
    "      ]\n",
    "    }\n",
    "  )\n",
    "param = {\n",
    "    \"q\":\"初音ミク\",\n",
    "    \"targets\":\"tags\",\n",
    "    \"_sort\":\"-viewCounter\",\n",
    "    \"fields\":\"title,tags\",\n",
    "    \"_limit\":100,\n",
    "    \"jsonFilter\":filter\n",
    "    }\n",
    "url = \"https://api.search.nicovideo.jp/api/v2/snapshot/video/contents/search\""
   ]
  },
  {
   "cell_type": "code",
   "execution_count": null,
   "metadata": {},
   "outputs": [],
   "source": []
  },
  {
   "cell_type": "code",
   "execution_count": 33,
   "metadata": {},
   "outputs": [],
   "source": [
    "data = requests.get(url,params=param).json()"
   ]
  },
  {
   "cell_type": "code",
   "execution_count": 34,
   "metadata": {},
   "outputs": [
    {
     "name": "stdout",
     "output_type": "stream",
     "text": [
      "{'data': [{'title': '【初音ミク】みくみくにしてあげる♪【してやんよ】', 'tags': 'DAM&JOY配信中 ika VOCALOID VOCALOID神話入り ミクオリジナル曲 みくみくにしてあげる♪ 元気が出るミクうた 初音ミク 初音ミク名曲リンク 朝みっく 音楽'}, {'title': '『初音ミク』千本桜『オリジナル曲PV』', 'tags': 'DAM&JOY配信中 VOCALOID VOCALOID和風曲 VOCALOID神話入り ミクオリジナル曲 一斗まる 三重の人 初音ミク 初音ミク名曲リンク 千本桜（黒うさP） 黒うさP'}, {'title': '初音ミク\\u3000が\\u3000オリジナル曲を歌ってくれたよ「メルト」', 'tags': 'VOCALOID VOCALOID神話入り うｐ者は中二病 ミクオリジナル曲 メルト ㍍⊃ 初音ミク 初音ミク名曲リンク 投稿者コメント 職人の祭典 音楽'}, {'title': '【オリジナル曲PV】マトリョシカ【初音ミク・GUMI】', 'tags': 'DAM&JOY配信中 GUMI VOCALOID VOCALOIDオリジナル曲 VOCALOID名曲リンク VOCALOID神話入り wikipediaより引用 ハチ マトリョシカ ミク＆GUMIリンク 初音ミク'}, {'title': '初音ミク・巡音ルカ\\u3000オリジナル曲\\u3000「ワールズエンド・ダンスホール」', 'tags': 'DAM&JOY配信中 VOCALOID VOCALOIDオリジナル曲 VOCALOID神話入り wowaka 「アンハッピーリフレイン」収録曲 ミク&ルカリンク ワールズエンド・ダンスホール 初音ミク 巡音ルカ 永遠に評価されるべき'}, {'title': 'DECO*27 - ゴーストルール feat. 初音ミク', 'tags': 'DAM&JOY配信中 DECO*27 VOCALOID VOCALOID神話入り ゴーストルール なぞの音楽すい星 ミクオリジナル曲 八三 初音ミク 初音ミク名曲リンク 黙ってマイリス'}, {'title': '初音ミクオリジナル曲\\u3000「初音ミクの消失（LONG VERSION）」', 'tags': 'cosMo(暴走P) DAM&JOY配信中 VOCALOID VOCALOIDイメージソング VOCALOID神話入り 「消失」ストーリー ミクオリジナル曲 初音ミク 初音ミクの消失 初音ミク名曲リンク 最高速の職人技'}, {'title': 'ハチ MV「砂の惑星 feat.初音ミク」', 'tags': 'VOCALOID VOCALOIDオリジナル曲 VOCALOID伝説入り VOCALOID伝説入り最短記録動画 VOCALOID神話入り直前 ハチ マジカルミライ2017テーマソング ミクオリジナル曲 初音ミク 初音ミク名曲リンク 砂の惑星'}, {'title': '初音ミク\\u3000が\\u3000オリジナル曲を歌ってくれたよ「ワールドイズマイン」', 'tags': 'DAM&JOY配信中 ryo VOCALOID VOCALOID伝説入り VOCALOID宮殿入り VOCALOID神話入り直前 ミクオリジナル曲 ワールドイズマイン 初音ミク 初音ミク名曲リンク 音楽'}, {'title': '【初音ミク＆GUMI】脳漿炸裂ガール【オリジナル】', 'tags': 'DAM&JOY配信中 GUMI VOCALOID VOCALOIDオリジナル曲 VOCALOID伝説入り VOCALOID名曲リンク VOCALOID神話入り直前 ミク＆GUMIリンク れるりり 初音ミク 脳漿炸裂ガール'}, {'title': '初音ミク\\u3000オリジナル曲\\u3000「ローリンガール」', 'tags': 'DAM&JOY配信中 VOCALOID VOCALOID伝説入り VOCALOID神話入り直前 wowaka 「アンハッピーリフレイン」収録曲 ミクオリジナル曲 ローリンガール 初音ミク 初音ミク名曲リンク 永遠に評価されるべき'}, {'title': '初音ミク\\u3000オリジナル曲\\u3000「裏表ラバーズ」', 'tags': 'DAM&JOY配信中 VOCALOID VOCALOID伝説入り VOCALOID神話入り直前 wowaka 「アンハッピーリフレイン」収録曲 ミクオリジナル曲 初音ミク 初音ミク名曲リンク 永遠に評価されるべき 裏表ラバーズ'}, {'title': '「ロミオとシンデレラ」\\u3000オリジナル曲\\u3000vo.初音ミク', 'tags': 'DAM&JOY配信中 doriko(きりたんp) nezuki VOCALOID VOCALOIDシンデレラ曲 VOCALOID伝説入り VOCALOID神話入り直前 ミクオリジナル曲 ロミオとシンデレラ 初音ミク 初音ミク名曲リンク'}, {'title': 'wowaka『アンノウン・マザーグース』feat. 初音ミク', 'tags': 'DAM&JOY配信中 VOCALOID VOCALOID伝説入り wowaka 「Re:Start」収録曲 アンノウン・マザーグース ヒトリエ ミクオリジナル曲 初音ミク 初音ミク名曲リンク 永遠に評価されるべき'}, {'title': '【初音ミク】 ウミユリ海底譚 【オリジナル曲】', 'tags': 'DAM&JOY配信中 VOCALOID VOCALOID伝説入り VOCALOID深海入り あわしま ウミユリ海底譚 ナブナ ミクオリジナル曲 初音ミク 初音ミク名曲リンク 神調教'}, {'title': 'エイリアンエイリアン / 初音ミク', 'tags': 'DAM&JOY配信中 VOCALOID VOCALOID伝説入り VOCALOID宇宙派 『ナユタン星からの物体Ｙ』収録曲 アンドロメダ子 エイリアンエイリアン ナユタン星人 ミクオリジナル曲 初音ミク 初音ミク名曲リンク'}, {'title': 'ダンスロボットダンス / 初音ミク', 'tags': '#コンパス #コンパスキャラソンリンク DAM&JOY配信中 VOCALOID VOCALOID伝説入り 『ナユタン星からの物体Y』収録曲 ダンスロボットダンス ナユタン星人 ミクオリジナル曲 初音ミク 初音ミク名曲リンク'}, {'title': '初音ミクがオリジナルを歌ってくれたよ「ブラック★ロックシューター」', 'tags': 'DAM&JOY配信中 hukeオリキャラ ryo supercell VOCALOID VOCALOID伝説入り ブラック★ロックシューター ミクオリジナル曲 初音ミク 初音ミク名曲リンク 音楽'}, {'title': 'DECO*27 - ヒバナ feat. 初音ミク', 'tags': 'DAM&JOY配信中 DECO*27 Rockwell VOCALOID VOCALOID伝説入り 「Re:Start」収録曲 ヒバナ(DECO*27) ミクオリジナル曲 八三 初音ミク 初音ミク名曲リンク'}, {'title': '『テオ』 / 初音ミク - Omoi', 'tags': 'DAM&JOY配信中 Omoi VOCALOID VOCALOID伝説入り VOCAROCK テオ(Omoi) ミクオリジナル曲 元気が出るミクうた 初音ミク 初音ミク名曲リンク'}, {'title': '【調教すげぇ】初音ミク『FREELY TOMORROW』(完成）【オリジナル】', 'tags': 'DAM&JOY配信中 FREELY_TOMORROW Mitchie_M VOCALOID VOCALOID伝説入り クローズアップ現代 ミクオリジナル曲 初音ミク 初音ミク名曲リンク 神調教 黙ってマイリス'}, {'title': 'DECO*27 - 乙女解剖 feat. 初音ミク', 'tags': 'akka DAM&JOY配信中 DECO*27 emon(tes.) Rockwell VOCALOID VOCALOID伝説入り ミクオリジナル曲 乙女解剖 初音ミク 初音ミク名曲リンク'}, {'title': '【オリジナル曲PV】結ンデ開イテ羅刹ト骸【初音ミク】', 'tags': 'DAM&JOY配信中 VOCALOID VOCALOID伝説入り VOCALOID和風曲 VOCALOID幻想狂気曲リンク ハチ マウスの本気 ミクオリジナル曲 初音ミク 初音ミク名曲リンク 結ンデ開イテ羅刹ト骸'}, {'title': '【初音ミク（40㍍）】 からくりピエロ 【オリジナルPV】', 'tags': '40㍍P DAM&JOY配信中 VOCALOID VOCALOID伝説入り からくりピエロ ミクオリジナル曲 ヤマコ(絵師) レンリツ方程式 切ないミクうた 初音ミク 初音ミク名曲リンク'}, {'title': 'VOCALOID2 初音ミクに「Ievan Polkka」を歌わせてみた', 'tags': 'Ievan_Polkka Otomania VOCALOID VOCALOIDカバー曲 VOCALOID伝説入り VOCALOID名カバー曲リンク はちゅねミク ロイツマ 全ての元凶 初音ミク 前日予約P'}, {'title': '「卑怯戦隊うろたんだー」をKAITO,MEIKO,初音ミクにry【オリジナル】修正版', 'tags': 'KAITO MEIKO VOCALOID VOCALOID3兄妹 VOCALOID伝説入り うろたんだー シンP フィルター:a0～a9、b0～b9 初音ミク 機動歌姫ヴォーカリオン 音楽'}, {'title': '初音ミク\\u3000オリジナル曲\\u3000「アンハッピーリフレイン」', 'tags': 'DAM&JOY配信中 VOCALOID VOCALOID伝説入り VOCAROCK wowaka 「アンハッピーリフレイン」収録曲 アンハッピーリフレイン お前らの「あ」で見えない ミクオリジナル曲 初音ミク名曲リンク 永遠に評価されるべき'}, {'title': '【初音ミク】 夜明けと蛍 【オリジナル】', 'tags': 'DAM&JOY配信中 No.734 VOCALOID VOCALOID伝説入り VOCALOID夏曲 ナブナ ミクオリジナル曲 初音ミク 初音ミク名曲リンク 夜のうた 夜明けと蛍'}, {'title': '太陽系デスコ / 初音ミク', 'tags': 'DAM＆JOY配信中 VOCALOID VOCALOID伝説入り 『ナユタン星からの物体Y』収録曲 アンドロメダ子 ナユタン星人 ミクオリジナル曲 メダオ 初音ミク 太陽系デスコ 星のうた'}, {'title': '【初音ミク】アルカリレットウセイ【オリジナル曲】', 'tags': '#コンパス #コンパスキャラソンリンク VOCALOID VOCALOID伝説入り VOCALOID魔法少女入り アルカリレットウセイ かいりきベア ミクオリジナル曲 初音ミク 初音ミク名曲リンク 魔法少女リリカ'}, {'title': 'DECO*27 - 妄想感傷代償連盟 feat. 初音ミク', 'tags': 'DAM&JOY配信中 DECO*27 emon(Tes.) VOCALOID VOCALOID伝説入り 「GHOST」収録曲 ミクオリジナル曲 初音ミク 初音ミク名曲リンク 妄想感傷代償連盟 檀上大空'}, {'title': '【初音ミクオリジナル曲】＊ハロー、プラネット。【ドットPV】', 'tags': '＊ハロー、プラネット。 DAM&JOY配信中 sasakure.UK VOCALOID VOCALOIDドット絵PVリンク VOCALOID伝説入り 「終末」シリーズ オハヨーハヨー ミクオリジナル曲 世界崩壊曲リンク 初音ミク'}, {'title': '【初音ミク】ビターチョコデコレーション【syudou】', 'tags': 'DAM&JOY配信中 syudou VOCALOID VOCALOID伝説入り VOCALOID食堂入り ビターチョコデコレーション ミクオリジナル曲 ヤスタツ 初音ミク 初音ミク名曲リンク'}, {'title': '【初音ミク】 メリュー 【オリジナル】', 'tags': 'DAM＆JOY配信中 n-buna No.734 VOCALOID VOCALOID伝説入り VOCALOID夕暮れ曲 あわしま ナブナ ミクオリジナル曲 メリュー 初音ミク名曲リンク'}, {'title': '【初音ミク】 深海少女 【オリジナル】', 'tags': 'VOCALOID VOCALOID伝説入り VOCALOID深海入り はるよ ﾏｸｰ ミクオリジナル曲 ゆうゆP 初音ミク 初音ミク名曲リンク 深海少女 神調教'}, {'title': '【初音ミク】ヒビカセ【オリジナル】', 'tags': 'DAM&JOY配信中 VOCALOID VOCALOIDイメージソング VOCALOID伝説入り お菊 ギガP ヒビカセ ミクオリジナル曲 れをる 初音ミク 初音ミク名曲リンク'}, {'title': '『グリーンライツ・セレナーデ』 / 初音ミク - Omoi', 'tags': 'Omoi VOCALOID VOCALOIDイメージソング VOCALOID伝説入り グリーンライツ・セレナーデ マジカルミライ2018 ミクオリジナル曲 やまかわ 初音ミク 初音ミク名曲リンク 山下RIRI'}, {'title': '【初音ミク】気まぐれメルシィ【オリジナル曲+PV】', 'tags': 'JET q*Left TNSK VOCALOID VOCALOID伝説入り マジカルミライ2017 ミクオリジナル曲 めろちん 八王子P 初音ミク 気まぐれメルシィ'}, {'title': '初音ミクが声優のようにしゃべってラップして歌った！『ビバハピ』PV付', 'tags': 'cort Lat式ミク Mitchie_M TOHRU_MiTSUHASHi VOCALOID VOCALOID伝説入り ビバハピ ミクオリジナル曲 初音ミク 初音ミク名曲リンク 神調教'}, {'title': '【作業用BGM】俺選！初音ミクメドレー', 'tags': 'VOCALOIDメドレー 作業用BGM 初音ミク 音楽'}, {'title': '【初音ミク】1925【オリジナル曲】', 'tags': '1925 DAM&JOY配信中 T-POCKET VOCALOID VOCALOID伝説入り VOCALOID鉄道シリーズ ちほP とみー ミクオリジナル曲 初音ミク 初音ミク名曲リンク'}, {'title': 'DECO*27 - 妄想税 feat. 初音ミク', 'tags': 'DAM＆JOY配信中 DECO*27 kous VOCALOID VOCALOID伝説入り あをこ ミクオリジナル曲 初音ミク 初音ミク名曲リンク 妄想税'}, {'title': 'ドラマツルギー / 初音ミク', 'tags': 'DAM&JOY配信中 Eve Mah Numa VOCALOID VOCALOID伝説入り ドラマツルギー ミクオリジナル曲 初音ミク 初音ミク名曲リンク'}, {'title': '【初音ミク】「独りんぼエンヴィー」【オリジナル】', 'tags': 'DAM&JOY配信中 koyori VOCALOID VOCALOID伝説入り ミクオリジナル曲 初音ミク 初音ミク名曲リンク 独りんぼエンヴィー 神調教 電ポルP 驚異的な中毒性'}, {'title': '初音ミク\\u3000が\\u3000オリジナル曲を歌ってくれたよ「恋は戦争」', 'tags': 'DAM&JOY配信中 ryo VOCALOID VOCALOID伝説入り ミクオリジナル曲 よろしいならば戦争だ 初音ミク 初音ミク名曲リンク 恋は戦争 恥ずかしがるな！心から叫べ！ 音楽'}, {'title': '初音ミクオリジナル曲 「Calc.」', 'tags': 'Calc. DAM＆JOY配信中 The_4200000th VOCALOID VOCALOID伝説入り Yさん3部作 ジミーサムＰ ミクオリジナル曲 切ないミクうた 初音ミク 初音ミク名曲リンク'}, {'title': 'すろぉもぉしょん / 初音ミク', 'tags': 'DAM&JOY配信中 VOCALOID VOCALOID伝説入り 『しぼう』収録曲 すろぉもぉしょん ピノキオP ピノキオピー ミクオリジナル曲 元気が出るミクうた 初音ミク 初音ミク名曲リンク'}, {'title': '【初音ミク】こちら、幸福安心委員会です。【オリジナル】', 'tags': 'DAM&JOY配信中 VOCALOID VOCALOID伝説入り うたたP うたたPチャンネル こちら、幸福安心委員会です。 ミクオリジナル曲 初音ミク 初音ミク名曲リンク 幸福シリーズ 鳥居羊'}, {'title': '【初音ミク】 恋愛裁判 【オリジナルMV】', 'tags': '40mP mao VOCALOID VOCALOID伝説入り [TEST] たま（絵師） ミクオリジナル曲 事務員G 初音ミク 初音ミク名曲リンク 恋愛裁判'}, {'title': '【初音ミク】 ODDS &amp; ENDS  【Full Ver】', 'tags': 'DAM&JOY配信中 ODDS&ENDS ryo supercell VOCALOID VOCALOIDイメージソング VOCALOID伝説入り うp主≠作者 初音ミク 初音ミク-ProjectDIVA-f 初音ミク名曲リンク'}, {'title': '彗星ハネムーン / 初音ミク', 'tags': 'DAM&JOY配信中 VOCALOID VOCALOID伝説入り 『ナユタン星からの物体Z』収録曲 アンドロメダ子 ナユタン星人 ミクオリジナル曲 初音ミク 初音ミク名曲リンク 彗星ハネムーン 星のうた'}, {'title': 'DECO*27 - ストリーミングハート feat. 初音ミク', 'tags': 'DAM&JOY配信中 DECO*27 kous VOCALOID VOCALOID伝説入り YumaSaito ががめ ストリーミングハート ミクオリジナル曲 初音ミク 初音ミク名曲リンク'}, {'title': '[初音ミク]\\u3000paranoia\\u3000[オリジナル]', 'tags': 'paranoia(めざめP) VOCALOID VOCALOID伝説入り つなまる ミクオリジナル曲 わこつP 初音ミク 初音ミクAppend 初音ミク名曲リンク 真理歪 神調教'}, {'title': 'DECO*27 - リバーシブル・キャンペーン feat. 初音ミク', 'tags': 'DAM&JOY配信中 DECO*27 VOCALOID VOCALOID伝説入り YumaSaito 「GHOST」収録曲 おぐち ミクオリジナル曲 リバーシブル・キャンペーン 初音ミク 初音ミク名曲リンク'}, {'title': 'DECO*27 - 二息歩行 feat. 初音ミク', 'tags': 'DAM&JOY配信中 DECO*27 VOCALOID VOCALOID伝説入り しらこむぎさ とぴ マジカルミライ2021 ミクオリジナル曲 二息歩行 初音ミク 初音ミク名曲リンク'}, {'title': '【初音ミク】桜ノ雨【オリジナル曲】', 'tags': 'DAM&JOY配信中 halyosy VOCALOID VOCALOID伝説入り VOCALOID処女作 VOCALOID卒業曲集 VOCALOID桜曲 初音ミク 初音ミク名曲リンク 卒業ソング 桜ノ雨'}, {'title': '初音ミク\\u3000オリジナル曲\\u3000『ブリキノダンス』', 'tags': 'VOCALOID VOCALOID伝説入り VOCALOID地底派 ブリキノダンス ミクオリジナル曲 初音ミク 初音ミク名曲リンク 日向電工 王のマント 驚異の語彙力'}, {'title': '惑星ループ / 初音ミク', 'tags': 'DAM&JOY配信中 VOCALOID VOCALOID伝説入り 『ナユタン星からの物体Y』収録曲 ナユタン星人 ミクオリジナル曲 メダオ 初音ミク 初音ミク名曲リンク 惑星ループ 星のうた'}, {'title': '【初音ミク】\\u3000え？あぁ、そう。\\u3000【オリジナル曲】', 'tags': 'DAM&JOY配信中 riria009 VOCALOID VOCALOID伝説入り え？あぁ、そう。 ミクオリジナル曲 初音ミク 初音ミク名曲リンク 蝶々P 蝶々ピー！！'}, {'title': '「歌に形はないけれど」 オリジナル曲\\u3000vo.初音ミク', 'tags': 'DAM&JOY配信中 doriko(きりたんp) nezuki VOCALOID VOCALOID伝説入り ききいるミクうた ボカロバラード ミクオリジナル曲 初音ミク 初音ミク名曲リンク 歌に形はないけれど'}, {'title': 'ツギハギスタッカート / とあ feat. 初音ミク', 'tags': 'DAM&JOY配信中 VOCALOID VOCALOID伝説入り お洒落なミクうた ツギハギスタッカート とあ ピアノミク ミクオリジナル曲 切ないミクうた 初音ミク 初音ミク名曲リンク'}, {'title': '帝国少女/初音ミク', 'tags': 'R_Sound_Design usugeP VOCALOID VOCALOID伝説入り お洒落なミクうた シティポップ ミクオリジナル曲 初音ミク 初音ミク名曲リンク 帝国少女'}, {'title': '【初音ミク】\\u3000ドクハク\\u3000【オリジナル】', 'tags': '#コンパス #コンパスキャラソンリンク MARETU VOCALOID VOCALOID伝説入り ドクハク ミクオリジナル曲 ルチアーノ(#コンパス) 初音ミク 初音ミク名曲リンク 味なし☆あんパン'}, {'title': '【初音ミク】むかしむかしのきょうのぼく【オリジナル】', 'tags': 'DECO*27 VOCALOID VOCALOID伝説入り ミクオリジナル曲 むかしむかしのきょうのぼく 初音ミク 初音ミク名曲リンク 四次元P 林健太郎 涙腺崩壊 週刊はじめての初音ミク'}, {'title': 'ナンセンス文学 / 初音ミク', 'tags': 'DAM&JOY配信中 Eve Numa VOCALOID VOCALOID伝説入り 「文化」収録曲 ナンセンス文学 ミクオリジナル曲 初音ミク 初音ミク名曲リンク'}, {'title': '初音ミクがオリジナル曲を歌ってくれたよ「初めての恋が終わる時」', 'tags': 'DAM&JOY配信中 ryo VOCALOID VOCALOID伝説入り VOCALOID冬曲 ミクオリジナル曲 切ないミクうた 初めての恋が終わる時 初音ミク 初音ミク名曲リンク 音楽'}, {'title': 'DECO*27 - ヴァンパイア feat. 初音ミク', 'tags': '初音ミク DECO*27 VOCALOID 八三 ヴァンパイア(DECO*27) 「MANNEQUIN」収録曲 初音ミク名曲リンク ミクオリジナル曲 DAM&JOY配信中 VOCALOID伝説入り ミクの日2021'}, {'title': '【初音ミクKAITO】サンドリヨン（Cendrillon）【オリジナル曲】', 'tags': 'DAM&JOY配信中 Dios/シグナルP KAITO KAITO＆ミクリンク VOCALOID VOCALOIDシンデレラ曲 VOCALOID伝説入り VOCALOID宮殿入り VOCALOID小説派生曲 サンドリヨン 初音ミク'}, {'title': '【初音ミク＋IA】コノハの世界事情【オリジナルPV】', 'tags': 'DAM&JOY配信中 IA_-ARIA_ON_THE_PLANETES- VOCALOID VOCALOID伝説入り カゲロウプロジェクト コノハの世界事情 しづ じん（自然の敵P） ミク&IAリンク わんにゃんぷー 初音ミク'}, {'title': '【初音ミク】 サイハテ 【アニメ風PV・オリジナル曲】', 'tags': 'DAM&JOY配信中 VOCALOID VOCALOID伝説入り サイハテ ポップ・レクイエム ミクオリジナル曲 切ないミクうた 初音ミク 初音ミク名曲リンク 小林オニキス 歌葬'}, {'title': '【初音ミク(40㍍)】 トリノコシティ 【オリジナル】', 'tags': '40㍍P DAM＆JOY配信中 VOCALOID VOCALOID伝説入り トリノコシティ ピアノミク ミクオリジナル曲 世界の新着動画完走組 初音ミク 初音ミク名曲リンク'}, {'title': '【初音ミク】Nyanyanyanyanyanyanya!【オリジナループ】', 'tags': 'daniwellP Nyanyanyanyanyanyanya! VOCALOID VOCALOIDにゃんこ入り VOCALOID伝説入り ミクオリジナル曲 ループ推奨 全ての元凶の元凶の元凶 初音ミク 声は楽器シリーズ 電子ドラッグ'}, {'title': '【初音ミク】魔法少女幸福論【オリジナル曲】', 'tags': 'DAM&JOY配信中 toi VOCALOID VOCALOID伝説入り VOCALOID魔法少女入り トーマ ミクオリジナル曲 りゅうせー 初音ミク 初音ミク名曲リンク 魔法少女幸福論'}, {'title': '命に嫌われている。/初音ミク', 'tags': 'DAM&JOY配信中 VOCALOID VOCALOID伝説入り カンザキ カンザキイオリ ききいるミクうた ミクオリジナル曲 初音ミク 初音ミク名曲リンク 命に嫌われている。 黙ってマイリス'}, {'title': '【ルカ ミク グミ IA リン】威風堂々【オリジナル】', 'tags': 'DIVINE-DIVA GUMI IA_-ARIA_ON_THE_PLANETES- VOCALOID VOCALOIDオリジナル曲 VOCALOID伝説入り 初音ミク 威風堂々(梅とら) 巡音ルカ 梅とら 梅とら四字熟語シリーズ'}, {'title': 'magnet【初音ミク・巡音ルカオリジナル】', 'tags': 'DAM＆JOY配信中 magnet VOCALOID VOCALOIDオリジナル曲 VOCALOID伝説入り VOCALOID名曲リンク VOCALOID百合曲 ミク&ルカリンク 初音ミク 巡音ルカ 流星P'}, {'title': '初音ミクオリジナル曲 「from Y to Y」', 'tags': 'ジミーサムＰ VOCALOID from_Y_to_Y 初音ミク 巡音ルカ VOCALOID伝説入り DAM&JOY配信中 Yさん3部作 ミク&ルカリンク'}, {'title': '【オリジナル曲】リンネ【初音ミク】', 'tags': 'DAM＆JOY配信中 EXIT_TUNES_PRESENTS_Supernova3 VOCALOID VOCALOID伝説入り ハチ ハチ(動画投稿者) ミクオリジナル曲 リンネ リンネ(ハチ) 初音ミク 初音ミク名曲リンク'}, {'title': '初音ミクの消失-DEAD END-を歌ってみた＠弟の姉', 'tags': 'なぜ歌えた ボカロオリジナルを歌ってみた 人間やめましたシリーズ 人間卒業おめでとう 初音ミクの消失 初音ミクの消失を歌いきった猛者 弟の姉 歌ってみた 歌ってみた伝説入り 皮膚呼吸 酸素の消失'}, {'title': '【初音ミク】バイオレンストリガー【オリジナル】', 'tags': '#コンパス #コンパスキャラソンリンク Ryo_Asakura VOCALOID VOCALOID伝説入り バイオレンストリガー ぽあろ ミクオリジナル曲 メグメグ 八王子P 初音ミク'}, {'title': 'DECO*27 - チャンバラジョニー feat. 初音ミク', 'tags': 'DECO*27 KTG VOCALOID VOCALOID伝説入り チャンバラジョニー ミクオリジナル曲 レーズン大統領 八三 初音ミク 初音ミク名曲リンク'}, {'title': 'DECO*27 - ライアーダンス feat. 初音ミク', 'tags': 'DAM&JOY配信中 DECO*27 VOCALOID VOCALOID伝説入り 「GHOST」収録曲 ミクオリジナル曲 ライアーダンス 八三 初音ミク 初音ミク名曲リンク'}, {'title': '初音ミクオリジナル曲 「ハジメテノオト（Fullバージョン）」', 'tags': '音楽 初音ミク ミクオリジナル曲 みんなのうた ハジメテノオト VOCALOID伝説入り 初音ミク名曲リンク VOCALOID DAM&JOY配信中 VOCALOIDイメージソング'}, {'title': '【初音ミク】\\u3000うみなおし\\u3000【オリジナル】', 'tags': 'MARETU VOCALOID VOCALOID伝説入り vocaloid幻想狂気曲リンク うみなおし ミクオリジナル曲 みんなのうつ 初音ミク 初音ミク名曲リンク 鬱くしい 鬱曲の神様'}, {'title': '腐れ外道とチョコレゐト / 初音ミク', 'tags': 'DAM&JOY配信中 VOCALOID VOCALOID伝説入り アイマイナちゃん ピノキオP ピノキオピー ミクオリジナル曲 初音ミク 初音ミク名曲リンク 歌うPシリーズ 腐れ外道とチョコレゐト'}, {'title': '【初音ミク】オレンジ【オリジナル曲】', 'tags': 'DAM&JOY配信中 toi. VOCALOID VOCALOID伝説入り オレンジ(トーマ) がっちゃん トーマ ミクオリジナル曲 切ないミクうた 初音ミク 初音ミク名曲リンク'}, {'title': '【初音ミク、巡音ルカ】リンちゃんなう！【ガルナ/オワタP】', 'tags': '((＾ω＾三＾ω＾))おっおっおっおっ VOCALOID VOCALOID3人娘 VOCALOIDイメージソング VOCALOID伝説入り ガルナ@オワタP リンちゃんなう 初音ミク 巡音ルカ 歌ってみろ 鏡音リン'}, {'title': '神っぽいな / 初音ミク', 'tags': 'VOCALOID 初音ミク ピノキオピー 神っぽいな アイマイナちゃん VOCALOID伝説入り 初音ミク名曲リンク ミクオリジナル曲 驚異的な中毒性 マイリス巡回推奨 ヤヅキ'}, {'title': '【初音ミク】エンヴィキャットウォーク【オリジナル曲】', 'tags': 'DAM＆JOY配信中 VOCALOID VOCALOIDにゃんこ入り VOCALOID伝説入り 『Eureka』収録曲 エンヴィキャットウォーク トーマ ミクオリジナル曲 初音ミク 初音ミク名曲リンク'}, {'title': '【オリジナル曲PV】clock lock works【初音ミク】', 'tags': 'clock_lock_works DAM&JOY配信中 VOCALOID VOCALOIDオリジナル曲 VOCALOID伝説入り ハチ（動画投稿者） ミクオリジナル曲 レトロなボカうた 初音ミク 初音ミク名曲リンク 南方研究所'}, {'title': '【鏡音レン】Fire◎Flower【オリジナル曲】', 'tags': 'DAM&JOY配信中 Fire◎Flower halyosy VOCALOID VOCALOID伝説入り VOCALOID夏曲 VOCALOID花火曲 Vocalonation収録曲リンク レンオリジナル曲 初音ミク-ProjectDIVA-f_収録曲 鏡音レン'}, {'title': 'ありふれたせかいせいふく / 初音ミク', 'tags': 'DAM&JOY配信中 Project_mirai2収録曲 VOCALOID VOCALOID伝説入り アイマイナちゃん ありふれたせかいせいふく エジエレキ ピノキオピー ミクオリジナル曲 初音ミク 初音ミク名曲リンク'}, {'title': '【初音ミク】ネトゲ廃人シュプレヒコール【ボトラー】', 'tags': 'DAM&JOY配信中 VOCALOID VOCALOID伝説入り y0c1e おれらのうた さつきがてんこもり ネトゲ廃人シュプレヒコール マクロ ミクオリジナル曲 初音ミク 初音ミク名曲リンク'}, {'title': '【初音ミクSoft】\\u3000アイロニ\\u3000【オリジナル曲PV付】', 'tags': 'DAM&JOY配信中 VOCALOID VOCALOID伝説入り アイロニ アイロニ(すこっぷ) すこっぷ はるはる ミクオリジナル曲 切ないミクうた 初音ミク 初音ミク名曲リンク'}, {'title': '【初音ミク】\\u3000ホワイトハッピー\\u3000【オリジナル】', 'tags': '<●><●> MARETU VOCALOID VOCALOID伝説入り え？ ホワイトハッピー ミクオリジナル曲 初音ミク 極悪P 訓練されたコメント欄'}, {'title': 'キレキャリオン｜初音ミク', 'tags': '#コンパス #コンパスキャラソンリンク DAM&JOY配信中 VOCALOID VOCALOID伝説入り wogura キレキャリオン ポリスピカデリー ミクオリジナル曲 初音ミク 初音ミク名曲リンク'}, {'title': '【初音ミク】ぽっぴっぽー【本店だよ！！】', 'tags': 'VOCALOID VOCALOID伝説入り VOCALOID食堂入り ぽっぴっぽー ミクオリジナル曲 ラマーズP ラマーズpの誤算シリーズ 全ての元凶 初音ミク 電子ドラッグ 音楽'}, {'title': '【初音ミク】グラーヴェ【オリジナル曲】', 'tags': '#コンパス #コンパスキャラソンリンク niki VOCALOID VOCALOID伝説入り グスタフ・ハイドリヒ グラーヴェ(niki) ミクオリジナル曲 りゅうせー 初音ミク 初音ミク名曲リンク'}, {'title': '【3DCG】くるっと・おどって・初音ミク【ねんどろいど】', 'tags': '2008年4月5日午前2時の時報事件 caramelldansen RC2時代の怪傑 VOCALOID3D化計画 VOCALOID伝説入り くるっと・まわって・いっかいてん 初音ミク 踊ってみた 重要ニコニコ文化財'}, {'title': '【初音ミク】\\u3000ダーリン\\u3000【オリジナル】', 'tags': 'MARETU VOCALOID VOCALOID伝説入り ダーリン（MARETU） ミクオリジナル曲 初音ミク 初音ミク名曲リンク 愛 極悪P 鬱くしい'}], 'meta': {'id': '75a418b6-3459-4965-a321-1eb318bf12e5', 'totalCount': 328522, 'status': 200}}\n"
     ]
    }
   ],
   "source": [
    "print(data)"
   ]
  },
  {
   "cell_type": "markdown",
   "metadata": {},
   "source": []
  },
  {
   "cell_type": "code",
   "execution_count": null,
   "metadata": {},
   "outputs": [],
   "source": []
  }
 ],
 "metadata": {
  "kernelspec": {
   "display_name": "Python 3.9.10 64-bit",
   "name": "python3910jvsc74a57bd0ac2eaa0ea0ebeafcc7822e65e46aa9d4f966f30b695406963e145ea4a91cd4fc"
  },
  "language_info": {
   "codemirror_mode": {
    "name": "ipython",
    "version": 3
   },
   "file_extension": ".py",
   "mimetype": "text/x-python",
   "name": "python",
   "nbconvert_exporter": "python",
   "pygments_lexer": "ipython3",
   "version": "3.9.10"
  },
  "metadata": {
   "interpreter": {
    "hash": "ac2eaa0ea0ebeafcc7822e65e46aa9d4f966f30b695406963e145ea4a91cd4fc"
   }
  },
  "orig_nbformat": 2
 },
 "nbformat": 4,
 "nbformat_minor": 2
}