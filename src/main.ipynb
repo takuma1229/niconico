{
 "cells": [
  {
   "cell_type": "code",
   "execution_count": 34,
   "metadata": {},
   "outputs": [],
   "source": [
    "import requests\n",
    "import json\n",
    "filter = json.dumps(\n",
    "    {\n",
    "      \"type\": \"or\",\n",
    "      \"filters\": [\n",
    "      {\n",
    "        \"type\": \"range\",\n",
    "        \"field\": \"startTime\",\n",
    "        \"from\": f\"2022-01-01T00:00:00+09:00\",\n",
    "        \"to\": f\"2022-06-30T23:59:59+09:00\",\n",
    "        \"include_lower\": True\n",
    "      }\n",
    "      ]\n",
    "    }\n",
    "  )\n",
    "param = {\n",
    "    \"q\":\"初音ミク OR 可不\",\n",
    "    \"targets\":\"tags\",\n",
    "    \"_sort\":\"-viewCounter\",\n",
    "    \"fields\":\"title,viewCounter,tags\",\n",
    "    \"_limit\":100,\n",
    "    \"jsonFilter\":filter,\n",
    "    }\n",
    "url = \"https://api.search.nicovideo.jp/api/v2/snapshot/video/contents/search\""
   ]
  },
  {
   "cell_type": "code",
   "execution_count": null,
   "metadata": {},
   "outputs": [],
   "source": []
  },
  {
   "cell_type": "code",
   "execution_count": 35,
   "metadata": {},
   "outputs": [],
   "source": [
    "data = requests.get(url,params=param).json()"
   ]
  },
  {
   "cell_type": "code",
   "execution_count": 36,
   "metadata": {},
   "outputs": [
    {
     "name": "stdout",
     "output_type": "stream",
     "text": [
      "{'data': [{'title': '魔法少女とチョコレゐト / 初音ミク', 'viewCounter': 1270446, 'tags': 'DAM&JOY配信中 VOCALOID VOCALOID伝説入り VOCALOID魔法少女入り アイマイナちゃん ピノキオピー ミクオリジナル曲 初音ミク 初音ミク名曲リンク 歌うpシリーズ 魔法少女とチョコレゐト'}, {'title': '【GUMI×初音ミク】アイデンティティ【Kanaria】', 'viewCounter': 1246127, 'tags': 'GUMI Kanaria LAM VOCALOID VOCALOID伝説入り アイデンティティ(Kanaria) カップヌードルのセカイ プロジェクトセカイ収録曲 ミク＆GUMIリンク 初音ミク 雷雷公社'}, {'title': 'DECO*27 - サラマンダー feat. 初音ミク', 'viewCounter': 922966, 'tags': 'DECO*27 VOCALOID VOCALOID伝説入り直前 VOCALOID殿堂入り カップヌードルのセカイ サラマンダー サラマンダー(DECO*27) プロジェクトセカイ収録曲 ミクオリジナル曲 八三 初音ミク'}, {'title': 'DECO*27 - パラサイト feat. 初音ミク', 'viewCounter': 820401, 'tags': 'DAM&JOY配信中 DECO*27 Rockwell VOCALOID VOCALOID殿堂入り 「MANNEQUIN」収録曲 パラサイト(DECO*27) ミクオリジナル曲 初音ミク 初音ミク名曲リンク 病み曲'}, {'title': 'DECO*27 - ジレンマ feat. 初音ミク', 'viewCounter': 752732, 'tags': '3月9日はミクの日 DAM&JOY配信中 DECO*27 Rockwell VOCALOID VOCALOID殿堂入り 「MANNEQUIN」収録曲 ジレンマ(DECO*27) ミクオリジナル曲 八三 初音ミク'}, {'title': 'DECO*27 - キメラ feat. 初音ミク', 'viewCounter': 714672, 'tags': 'DECO*27 Rockwell VOCALOID VOCALOID殿堂入り キメラ(DECO*27) ズームイン!!サタデー ミクオリジナル曲 八三 初音ミク 初音ミク名曲リンク 日本テレビ'}, {'title': 'かめりあ - ヒアソビ (feat. 初音ミク)', 'viewCounter': 646414, 'tags': '#プロセカNEXT VOCAJAZZ VOCALOID VOCALOID殿堂入り お洒落なミクうた かめりあ ヒアソビ（かめりあ） プロセカNEXT ミクオリジナル曲 りゅうら 初音ミク'}, {'title': 'まにまに / 初音ミク', 'viewCounter': 589017, 'tags': 'r-906 VOCALOID VOCALOID殿堂入り ウエダツバサ ボカコレ2022春TOP100優勝作品 ボカコレ2022春TOP100参加作品 ボカムンベース まにまに まにまに(r-906) ミクオリジナル曲 初音ミク'}, {'title': '正体 / feat.初音ミク', 'viewCounter': 557343, 'tags': 'Riei VOCALOID VOCALOID殿堂入り たっくん ボカコレ2022春TOP100参加作品 るおーるおみ 初音ミク 初音ミクNT 正体(Riei)'}, {'title': '『くうになる』/ feat. 初音ミク ＆ 可不', 'viewCounter': 504900, 'tags': 'CeVIO殿堂入り kafu MIMI(ボカロP) VOCALOID VOCALOID&CeVIOオリジナル曲 VOCALOID殿堂入り くうになる けけ(絵師) ミク＆可不リンク 初音ミク 可不'}, {'title': '転生林檎 / 初音ミク', 'viewCounter': 474262, 'tags': 'VOCALOID VOCALOID-PV VOCALOID殿堂入り アイマイナちゃん えいりな刃物 ピノキオピー ミクオリジナル曲 ミクノポップ 初音ミク 転生林檎 驚異的な中毒性'}, {'title': '（オレンジみたいな）蒼い水銀灯 / 胡桃の靴', 'viewCounter': 473240, 'tags': 'MISSILE228 nniオリジナル曲 VOCALOID vocaloidオリジナル曲 ききいるミクうた ギター ニコニコインディーズ ミクオリジナル曲 初音ミク 音楽'}, {'title': 'カノン / 可不', 'viewCounter': 465003, 'tags': \"C'Na CeVIO_AI CeVIOオリジナル曲 CeVIO殿堂入り VOCALOID あさ(絵師) カノン(柊マグネタイト) 可不 可不オリジナル曲 柊マグネタイト 音楽\"}, {'title': '[プロセカ] アイデンティティ [2DMV]', 'viewCounter': 449451, 'tags': 'Kanaria LAM アイデンティティ アイデンティティ(kanaria) カップヌードルのセカイ コメント非表示推奨 プロジェクトセカイ収録曲 プロセカ 初音ミク 宵崎奏 申し訳程度のカップヌードル'}, {'title': 'イフ ／ 初音ミク', 'viewCounter': 441846, 'tags': 'vocaloid vocaloidオリジナル曲 VOCALOID殿堂入り VOCAROCK イフ（ユリイ・カノン） プロジェクトセカイ プロジェクトセカイ収録曲 プロセカ ミクオリジナル曲 ユリイ・カノン 初音ミク'}, {'title': 'バグ / かいりきベア feat.初音ミク', 'viewCounter': 413742, 'tags': 'VOCALOID かいりきベア のう 初音ミク バグ(かいりきベア) プロジェクトセカイ収録曲 VOCALOID殿堂入り ミクオリジナル曲 才能のタグ お使いの端末は正常です'}, {'title': 'DECO*27 - 愛言葉Ⅳ feat. 初音ミク', 'viewCounter': 409231, 'tags': 'DECO*27 Rockwell VOCALOID VOCALOID殿堂入り ミクオリジナル曲 八三 初音ミク 愛言葉Ⅳ 愛言葉シリーズ'}, {'title': '月光 / はるまきごはん×キタニタツヤ feat.初音ミク&amp;鏡音リン', 'viewCounter': 379680, 'tags': 'VOCALOID VOCALOIDデュエット曲 VOCALOID殿堂入り こんにちは谷田さん はるまきごはん プロジェクトセカイ収録曲 ミク×リンリンク 初音ミク 月光 月光（はるまきごはん×キタニタツヤ） 鏡音リン'}, {'title': '88☆彡 / まらしぃ × 堀江晶太(kemu) feat.初音ミク × KAITO', 'viewCounter': 357597, 'tags': '88☆彡 KAITO KAITO＆ミクリンク kemu VOCALOID VOCALOIDデュエット曲 VOCALOID殿堂入り プロジェクトセカイ収録曲 ボカロピアノ まらしぃ 初音ミク'}, {'title': '【初音ミク&amp;可不】デイバイデイズ【syudou】', 'viewCounter': 345119, 'tags': 'CeVIO_AI CeVIO殿堂入り syudou VOCALOID VOCALOID&CeVIOオリジナル曲 VOCALOID殿堂入り くろうめ デイバイデイズ 可不 歌ってみろ 驚異的な中毒性'}, {'title': 'パジャミィ / いよわ feat.初音ミク', 'viewCounter': 332485, 'tags': 'vocaloid VOCALOIDおふとん入り VOCALOID殿堂入り いよわ かわいいミクうた パジャミィ ピアノミク ミクオリジナル曲 初音ミク 夜のうた'}, {'title': 'スティールユー / 初音ミク', 'viewCounter': 329554, 'tags': '#コンパス #コンパスキャラソンリンク Bugdoll Omoi VOCALOID VOCALOID殿堂入り VOCAROCK スティールユー ずみまつ ミクオリジナル曲 初音ミク'}, {'title': '絶対敵対メチャキライヤー - ミクと可不', 'viewCounter': 294734, 'tags': 'VOCALOID VOCALOID殿堂入り WOOMA アルセチカ ボカコレ2022春 ボカコレ2022春top100参加作品 ミク&可不リンク メドミア 初音ミク 可不 絶対敵対メチャキライヤー'}, {'title': '[プロセカ] トリコロージュ [2DMV]', 'viewCounter': 292894, 'tags': '25時、ナイトコードで。 トリコロージュ プロジェクトセカイ収録曲 プロセカ 初音ミク 煮ル果実 豆の素'}, {'title': '『フューチャー・イヴ』feat.初音ミク / sasakure.\\u200cUK + 有形ランペイジ', 'viewCounter': 285637, 'tags': 'sasakure.UK VOCALOID VOCALOID宇宙派 VOCALOID殿堂入り フューチャー・イヴ マジカルミライ マジカルミライ10th ミクオリジナル曲 初音ミク 有形ランペイジ 革蝉'}, {'title': 'Cheers／可不', 'viewCounter': 277893, 'tags': 'CeVIO CeVIOEDM CeVIOオリジナル曲 CeVIO殿堂入り Cheers(オゾン) VOCALOID オゾン れいろう 可不 可不オリジナル曲'}, {'title': '作詞：A.I.『パープルトレイン（英語）』初音ミク', 'viewCounter': 264850, 'tags': 'VOCALOID vocaloidオリジナル曲 vocaloid処女作 vocaloid新曲リンク パープル・トレイン ミクオリジナル曲 人工知能 初音ミク 初音ミクオリジナル曲 英語ミク 音楽'}, {'title': 'パーフェクション / 初音ミク', 'viewCounter': 263533, 'tags': 'BLACK_ROSE joysound配信中 VOCALOID VOCALOID殿堂入り パーフェクション ミクオリジナル曲 初音ミク 柊マグネタイト 言ノ葉Project 言ノ葉Project_2ndシーズン 音楽'}, {'title': '消えろ / じん【Official MV】', 'viewCounter': 255775, 'tags': 'CeVIO_AI CeVIO殿堂入り koshi-kun Nico-Tine VOCALOID アレゴリーズ収録曲 じん(自然の敵P) 可不 可不オリジナル曲 堀江晶太 消えろ(じん)'}, {'title': '回せツインテール / maras k(marasy×kors k) feat.初音ミク', 'viewCounter': 254830, 'tags': 'kors_k maras_k VOCALOID VOCALOID殿堂入り まらしぃ ミクオリジナル曲 元気が出るミクうた 初音ミク 回せツインテール 神調教'}, {'title': '∴初音ミク『トリコロージュ』 / 煮ル果実', 'viewCounter': 247582, 'tags': '5月病マリオ VOCALOID VOCALOID殿堂入り カンタロ トリコロージュ プロジェクトセカイ収録曲 ミクオリジナル曲 ゆっけ 初音ミク 火種 煮ル果実'}, {'title': '感情ディシーブ / ろーある feat.初音ミク', 'viewCounter': 245870, 'tags': 'VOCALOID VOCALOID殿堂入り VOCAROCK ボカコレ2022春TOP100参加作品 ボカコレ2022春ルーキー優勝作品 ボカコレ2022春ルーキー参加作品 ミクオリジナル曲 ろーある（セルフ転生P） 初音ミク 感情ディシーブ 音楽'}, {'title': '炎上アリス feat. 初音ミク【ボカロオリジナル曲】マイキP', 'viewCounter': 226645, 'tags': 'VOCALOID VOCALOID新曲リンク VOCALOID殿堂入り くろうめ ハナビちゃんは遅れがち ボカロアリス曲リンク マイキP ミクオリジナル曲 初音ミク 炎上アリス 音楽'}, {'title': 'カナデトモスソラ/ねこぼーろ（ササノマリイ）feat.初音ミク', 'viewCounter': 222056, 'tags': 'VOCALOID VOCALOID殿堂入り カナデトモスソラ ききいるミクうた ねこぼーろ プロジェクトセカイカラフルステージ プロジェクトセカイ収録曲 ミクオリジナル曲 みなもすち 初音ミク 投稿時間に愛を感じる'}, {'title': 'コスモスパイス / 鏡音リン・鏡音レン・初音ミク', 'viewCounter': 221951, 'tags': 'VOCALOID VOCALOID殿堂入り カップヌードルのセカイ コスモスパイス ピノキオピー プロジェクトセカイ収録曲 初音ミク 年少組 野良いぬ 鏡音リン 鏡音レン'}, {'title': 'ONESELF / Twinfield feat. 初音ミク', 'viewCounter': 204452, 'tags': '#プロセカNEXT future_core ONESELF(Twinfield) Twinfield VOCALOID VOCALOID殿堂入り クラブで使えるボカロ曲リンク クリエイターズ・スタジオ紹介楽曲リンク プロジェクトセカイ収録曲 ミクオリジナル曲 初音ミク'}, {'title': '可不ちゃんのカレーうどん狂騒曲', 'viewCounter': 203709, 'tags': 'cevio_ai cevioオリジナル曲 CeVIO殿堂入り VOCALOID ずんだもん ネタが多すぎてタグに困る動画 ネタ曲投稿祭ボカコレ出張組 はゆ茶 ボカコレ2022春TOP100参加作品 可不ちゃんのカレーうどん狂騒曲 可不名曲リンク'}, {'title': '[プロセカ] サラマンダー / 東雲彰人 &amp; 東雲絵名 × 初音ミク [2DMV]', 'viewCounter': 198340, 'tags': 'DECO*27 カップヌードルのセカイ サラマンダー サラマンダー(DECO*27) プロジェクトセカイ収録曲 プロセカ 八三 初音ミク 東雲彰人 東雲絵名'}, {'title': 'フェレス／初音ミク＆MEIKO', 'viewCounter': 195366, 'tags': 'GABULI meiko MEIKOオリジナル曲 VOCALOID VOCALOID殿堂入り ZABI フェレス(栗山夕璃) ミクオリジナル曲 初音ミク 姉妹で仲良くシリーズ 栗山夕璃'}, {'title': '死んでしまったんだ／可不･結月ゆかり', 'viewCounter': 193436, 'tags': 'AIVOICE CeVIO_AI CeVIOオリジナル曲 VOCALOID VOCALOIDオリジナル曲 VOCALOID殿堂入り ボカコレ2022春top100参加作品 可不 結月ゆかり 音楽'}, {'title': 'モノクロジック feat.可不 / MoNo.', 'viewCounter': 185435, 'tags': 'cevio CeVIO殿堂入り MoNo. OOTSUNA VOCALOID ボカコレ2022春TOP100参加作品 ボカコレ2022春ルーキー参加作品 モノクロジック ライブ公開 可不 可不オリジナル曲'}, {'title': 'とあ - ステンドノクターン - ft.鏡音リン, 初音ミク', 'viewCounter': 184136, 'tags': 'JOY配信中 VOCALOID VOCALOIDデュエット曲 VOCALOID殿堂入り ステンドノクターン とあ ミク×リンリンク 初音ミク 房野聖 瀧田洋平 鏡音リン'}, {'title': 'アルマ / feat.KAFU', 'viewCounter': 183139, 'tags': 'CeVIO処女作 CeVIO殿堂入り KAFU VOCALOID ت_ت アルマ(ت_ت) ボカロ ボーカロイド 可不 可不オリジナル曲 音楽'}, {'title': 'パラレルラルラ / 初音ミク MV', 'viewCounter': 179572, 'tags': 'sa拾 VOCALOID vocaloidオリジナル曲 VOCALOID殿堂入り ハナビちゃんは遅れがち パラレルラルラ びび ミクオリジナル曲 初音ミク 夏代孝明 爽やかなミクうた'}, {'title': 'さよならプリンセス / 初音ミク', 'viewCounter': 177152, 'tags': 'Kai(ボカロP) kawaii_future_bass VOCALOID VOCALOID殿堂入り オリジナル曲 かわいいミクうた さよならプリンセス ミクオリジナル曲 ミクノポップ 初音ミク 音楽'}, {'title': '撫でんな / 可不', 'viewCounter': 175938, 'tags': 'CeVIO_AI CeVIO殿堂入り VOCALOID ぴえん系ソングリンク 可不 可不オリジナル曲 撫でんな 柊マグネタイト 音楽'}, {'title': 'NO WAR【初音ミク】', 'viewCounter': 173239, 'tags': 'NOWAR VOCALOID VOCALOID実写PV VOCALOID殿堂入り マイキP ミクオリジナル曲 ミクの日2022 初音ミク 社会派VOCALOID 音楽'}, {'title': 'Awake Now / 雄之助 feat. 初音ミク【Music Video】', 'viewCounter': 168760, 'tags': 'Awake_Now VOCALOEDM VOCALOID VOCALOID殿堂入り クールなミクうた プロジェクトセカイ収録曲 ミクオリジナル曲 初音ミク 攻(おさむ) 牛肉 雄之助'}, {'title': 'オーダー、仰せのままに / 卯花ロク ft.初音ミク', 'viewCounter': 166474, 'tags': 'VOCALOID VOCALOID新曲リンク VOCALOID殿堂入り VOCAROCK オーダー、仰せのままに ミクオリジナル曲 初音ミク 卯花ロク 檀上大空'}, {'title': '未だ世界空想劇(feat.可不 KAFU)-世明LuNa', 'viewCounter': 164408, 'tags': 'CeVIOオリジナル曲 CeVIO殿堂入り VOCALOID vocaloid処女作 ボカロオリジナル曲 世明LuNa 初投稿 可不 可不オリジナル曲 新人ボカロp 音楽'}, {'title': '【可不】【ユウキP✖︎村カルキ✖︎黒野京】『愛情は転移した』_現役医師ボカロPオリジナル_小説公開中', 'viewCounter': 160105, 'tags': 'CeVIO CeVIOオリジナル曲 VOCALOID ボカロ ボカロオリジナル曲 ユウキP 可不 可不オリジナル曲 愛情は転移した 村カルキ 黒野京'}, {'title': 'チャイナ・ディスコ feat.可不 / MoNo.', 'viewCounter': 160017, 'tags': 'cevio_ai CeVIO殿堂入り MoNo. VOCALOID チャイナ・ディスコ 可不 可不オリジナル曲 店長で転調'}, {'title': '幻影 / はるまきごはん feat.初音ミク', 'viewCounter': 142194, 'tags': 'VOCALOID VOCALOID殿堂入り スタジオごはん はるまきごはん ビビンバ ボカロP自作アニメーションMVリンク 初音ミク 初音ミクオリジナル曲 幻影(はるまきごはん) 幻影EP収録曲'}, {'title': 'モブダンス feat.可不 / MoNo.', 'viewCounter': 141984, 'tags': 'CeVIO_AI CeVIOオリジナル曲 CeVIO処女作 CeVIO殿堂入り MoNo. VOCALOID モブダンス 可不 可不オリジナル曲 期待の大型新人 謎の中毒性'}, {'title': '【ママに内緒で】ショウコ隠滅、少女純潔 / みつあくま fealty. 初音ミク【プロセカNEXT】', 'viewCounter': 137591, 'tags': 'VOCALOID vocaloid殿堂入り プロセカNEXT ミクオリジナル曲 みつあくま 初音ミク'}, {'title': 'ディフレイル / 初音ミク', 'viewCounter': 134326, 'tags': 'VOCALOID VOCALOID殿堂入り クリエイターズ・スタジオ紹介楽曲リンク くろうめ ダークなぼかうた ディフレイル ボカコレ2022春TOP100参加作品 ボカコレ2022春ルーキー参加作品 ミクオリジナル曲 ユギカ 初音ミク'}, {'title': 'コピーアンドロイド／可不 #ボカコレ2022春', 'viewCounter': 133404, 'tags': 'CeVIO CeVIOオリジナル曲 CeVIO殿堂入り VOCALOID オゾン ボカコレ2022春TOP100参加作品 ヤヅキ(激おこp) れいろう 可不 可不オリジナル曲 白夜極光'}, {'title': '浮遊感／初音ミク', 'viewCounter': 133230, 'tags': 'MikuPOP VOCALOID VOCALOID新曲リンク VOCALOID殿堂入り オゾン ミクオリジナル曲 ヤヅキ(激おこp) れいろう 初音ミク 初音ミクオリジナル曲 浮遊感(オゾン)'}, {'title': '秒針/feat.初音ミク【ししまる自主制作MV】#ドガコレ 2022春', 'viewCounter': 130899, 'tags': 'PVつけてみた VOCALOID VOCALOID-PV殿堂入り ドガコレ ドガコレ2022春 ドガコレガチマッチ2022春 初音ミク'}, {'title': '蛍はいなかった / はるまきごはん feat.初音ミク', 'viewCounter': 129220, 'tags': 'VOCALOID VOCALOID-PV VOCALOID殿堂入り スタジオごはん はるまきごはん ボカロP自作アニメーションMVリンク 初音ミク 幻影EP収録曲 投稿者コメント 爽やかなミクうた 蛍はいなかった'}, {'title': '【ﾎﾞｶﾛ】水彩サイン【ｵﾘｼﾞﾅﾙ】', 'viewCounter': 121808, 'tags': 'VOCALOID VOCALOIDオリジナル曲 VOCALOID殿堂入り ミクオリジナル曲 初音ミク 音楽'}, {'title': '駒木優 - だきしめること。(feat.可不)【アニメーションMV】', 'viewCounter': 120848, 'tags': 'CeVIO CeVIOオリジナル曲 CeVIO殿堂入り VOCALOID だきしめること。 ボカコレ2022春REMIX参加作品 可不 可不オリジナル曲 音楽 駒木優'}, {'title': '知らん。 / 初音ミク - アオワイファイ', 'viewCounter': 120607, 'tags': 'VOCALOID vocaloidオリジナル曲 VOCALOID名PVリンク VOCALOID殿堂入り アオワイファイ ミクオリジナル曲 めり 初音ミク 知らん。(アオワイファイ)'}, {'title': '【MV】終わっちゃうが繰り返す／可不', 'viewCounter': 116999, 'tags': 'CeVIO_AI CeVIO殿堂入り Moeko_Miyoshi VOCALOID あおあそ ボカコレ2022春TOP100参加作品 ボカコレ2022春ルーキー参加作品 可不 弔ん 期待の新人 終わっちゃうが繰り返す'}, {'title': '【初音ミク】ヤミナベ!!!! / cosMo＠暴走P', 'viewCounter': 113335, 'tags': '#プロセカULTIMATE cosMo(暴走P) vocaloid VOCALOID殿堂入り タイトル通りとは恐れ入った ミクオリジナル曲 ヤミナベ!!!! 初音ミク 歌ってみろ 混ぜるな危険 演奏してみろ'}, {'title': 'エゴノミー / feat.KAFU', 'viewCounter': 111348, 'tags': 'CeVIO_AI CeVIOオリジナル曲 CeVIO殿堂入り KAFU VOCALOID ت_ت エゴノミー ぴえん系ソングリンク ボカロ 可不 可不オリジナル曲'}, {'title': 'CASI - 尊き推し feat.初音ミク', 'viewCounter': 111337, 'tags': 'CASI VOCALOID VOCALOID殿堂入り ウエダツバサ くすみ ピユ ボカコレ2022春 ボカコレ2022春TOP100参加作品 ミクオリジナル曲 初音ミク 尊き推し'}, {'title': '先生、いいですか。／feat.可不', 'viewCounter': 109842, 'tags': 'cevioオリジナル曲 CeVIO殿堂入り VOCALOID vocaloid殿堂入り ボカコレ2022春TOP100参加作品 ボカコレ2022春ルーキー参加作品 先生、いいですか。 可不 可不オリジナル曲 雨曇 音楽'}, {'title': '[プロセカ] にっこり^^調査隊のテーマ [3DMV]', 'viewCounter': 109776, 'tags': 'じーざすP にっこり^^調査隊のテーマ プロジェクトセカイ収録曲 プロセカ プロセカmv ワンダフル☆オポチュニティ！ ワンダーランズ×ショウタイム 初音ミク'}, {'title': '『 だきしめるまで。』feat. 可不', 'viewCounter': 106241, 'tags': 'CeVIO_AI CeVIOオリジナル曲 CeVIO殿堂入り kafu kafu_オリジナル楽曲 MIMI(ボカロP) VOCALOID だきしめるまで。 ドライフラワー(絵師) 可不 可不オリジナル曲'}, {'title': '【初音ミク】ペティマイマー 【オリジナルMV】メメ-目々-', 'viewCounter': 105104, 'tags': 'VOCALOID vocaloid殿堂入り くろうめ ペティマイマー ボカロオリジナル曲 ミクオリジナル曲 メメ-目々- 初音ミク 千吊 驚異的な中毒性'}, {'title': 'MOTHER feat. 初音ミク', 'viewCounter': 103244, 'tags': 'VOCALOID 初音ミク ぷにぷにワッカさん MOTHER Pollyanna 仕事を選べないミク ティーダのチンポ気持ちよすぎだろ! 禁じられた機械 ファミうた VOCALOID殿堂入り'}, {'title': '【flower×初音ミク】magnet【カバー/オリジナルMV】', 'viewCounter': 102035, 'tags': 'magnet rsk(絵師) VOCALOID vocaloid→vocaloidカバー VOCALOIDカバー曲 VOCALOID殿堂入り v_flower きさら(ボカロP) ミク&flowerリンク 初音ミク 魂実装済み'}, {'title': '不時着 feat. 可不 / Adeliae', 'viewCounter': 101357, 'tags': 'Adeliae cevio_ai cevioオリジナル曲 CeVIO殿堂入り VOCALOID vocaloidオリジナル曲 不時着(Adeliae) 可不 可不うた 可不オリジナル曲 音楽的同位体可不(kafu)'}, {'title': '[プロセカ] コスモスパイス / 天馬咲希 &amp; 天馬司 × 初音ミク [2DMV]', 'viewCounter': 99995, 'tags': 'カップヌードルのセカイ コスパス コスモスパイス ピノキオピー プロジェクトセカイ収録曲 プロセカ 初音ミク 天馬司 天馬咲希'}, {'title': 'Boi｜可不', 'viewCounter': 98532, 'tags': 'A.YAMI Boi CeVIO_AI CeVIOオリジナル曲 VOCALOID お洒落な可不うた ボカコレ2022春TOP100参加作品 ポリスピカデリー 可不 可不オリジナル曲'}, {'title': '【MMDモーション配布】ヒアソビ (feat. 初音ミク) - かめりあ【モーションキャプチャー】', 'viewCounter': 98110, 'tags': 'MikuMikuDance MMD MMDモーション配布あり vocaloid どっと式初音ミク ヒアソビ（かめりあ） モーションキャプチャー 初音ミク'}, {'title': '空の上へ隕ちていく／thus feat.初音ミク【オリジナル曲の心算】', 'viewCounter': 95797, 'tags': 'thus（投コメ怪文書P） VOCALOID VOCALOIDオリジナル曲 vocaloid新曲リンク ミクオリジナル曲 初音ミク 空の上へ隕ちていく'}, {'title': 'c҇̑̀a̒̄͡n҇̾̿c̍̽̕e͒̅͠l̄̓͝l̔̒̕ä̌͡r͑̉͞e̎̆͠ / ざんぎ feat. 初音ミク', 'viewCounter': 95510, 'tags': 'c҇̑̀a̒̄͡n҇̾̿c̍̽̕e͒̅͠l̄̓͝l̔̒̕ä̌͡r͑̉͞e̎̆͠ VOCALOID VOCALOID殿堂入り直前 アルセチカ お洒落なミクうた ざんぎ ボカコレ2022春TOP100参加作品 ボカコレ2022春ルーキー参加作品 ミクオリジナル曲 初音ミク 薬屋'}, {'title': '【紳士MMD】だんだん脱いでくミクさん【健全版】', 'viewCounter': 92430, 'tags': 'MMD r18mmd エロダンス サムネホイホイ 仕事を選べないミク 初音ミク 地上に降りた天使達 抱きたく成るっ娘 紳士MMD 紳士の社交場 紳士向けMMD'}, {'title': 'くるみ☆ぽんちお / 可不Remix', 'viewCounter': 90789, 'tags': 'CeVIO CeVIO殿堂入り直前 VOCALOID vocaloid→cevioカバー曲 くるみ☆ぽんちお ネタ曲投稿祭ボカコレ出張組 ボカコレ2022春REMIX参加作品 ぽーの 仕事を選べない可不 可不 子牛(ボカロp)'}, {'title': 'Look at Me(cute!) feat.初音ミク &amp; 巡音ルカ', 'viewCounter': 90692, 'tags': 'GIN（絵師） Look_at_Me(cute!) VOCALOID VOCALOID殿堂入り直前 エニー・ベアライト ボカコレ2022春TOP100参加作品 ボカコレ2022春ルーキー参加作品 ミク&ルカリンク 初音ミク 夜のうた 巡音ルカ'}, {'title': '凍えたままのラブソング  / 可不', 'viewCounter': 88768, 'tags': 'CeVIOオリジナル曲 CeVIO冬曲 CeVIO処女作 VOCALOID もの憂げ 凍えたままのラブソング 可不 可不オリジナル曲 可不はじめました 新人ボカロp 新曲ボカロ'}, {'title': '【モリスレイ】アルマ / ت ت (cover)【歌ってみた】', 'viewCounter': 87959, 'tags': 'CeVIOオリジナルを歌ってみた ت アルマ(ت_ت) アルマ(可不) ボカロオリジナルを歌ってみた モリスレイ 歌ってみた'}, {'title': '届かない / ガスパチョ feat.初音ミク', 'viewCounter': 85348, 'tags': 'VOCALOID vocaloidオリジナル曲 vocaloid新曲リンク ガスパチョ ミクオリジナル曲 初音ミク'}, {'title': 'アシェンプテルの虹奏/よみぃ feat.初音ミク【プロセカNEXT 第8回】', 'viewCounter': 84082, 'tags': '#プロセカNEXT VOCALOID VOCALOIDイメージソング アシェンプテルの虹奏 ピアノミク プロセカNEXT ミクオリジナル曲 よみぃ 初音ミク 初音ミクオリジナル曲 太達Ｐ'}, {'title': '[プロセカ] 青色絵具 / 日野森志歩 &amp; 日野森雫 × 初音ミク [2DMV]', 'viewCounter': 83924, 'tags': 'カップヌードルのセカイ くじら(ボカロP) プロジェクトセカイ収録曲 プロセカ 初音ミク 日野森志歩 日野森雫 青色絵具'}, {'title': 'ボカロ４人でカラオケ行ってきた', 'viewCounter': 83121, 'tags': 'VOCALOID v_flower ガイノイドtalk きさら(ボカロp) トークロイド ミク&flowerリンク 初音ミク 神調教 聴く同人誌 魂実装済み 鳴花ヒメ・ミコト'}, {'title': 'アタシ：アップデート / 香椎モイミ feat. 可不', 'viewCounter': 82635, 'tags': 'CeVIO_AI CeVIOオリジナル曲 VOCALOID アタシ：アップデート ぴえん系ソングリンク 可不 可不オリジナル曲 檀上大空 香椎モイミ'}, {'title': '【マッシュアップ】フォニイ × アルマ (cover by モリスレイ)【歌ってみた】', 'viewCounter': 81935, 'tags': 'CeVIOオリジナルを歌ってみた VOCAMASH アルマ(ت_ت) アルマ(可不) フォニイ フォニイ(ツミキ) マッシュアップ モリスレイ 歌ってみた 違和感仕事しろ'}, {'title': '雨ニモマケズ二／AKUZ feat. 初音ミク', 'viewCounter': 80341, 'tags': 'akuz(あくつ) vocaloid vocarock ミクオリジナル曲 初音ミク'}, {'title': 'ツイッターランド\\u3000/\\u3000miku', 'viewCounter': 78713, 'tags': '#プロセカNEXT STEAKA VOCALOEDM VOCALOID クールなミクうた しろくろ(絵師) ツイッターランド ミクオリジナル曲 初音ミク 可不版→sm40023113 良調教'}, {'title': 'ウェルダン / 初音ミク', 'viewCounter': 78322, 'tags': 'Camelots VOCALOID vocaloidイメージソング VOCALOIDオリジナル曲 ウェルダン(Camelots) ミクオリジナル曲 ミックホップ 初音ミク 納得の感動 駱駝法師 黒岩秀太。'}, {'title': '「もう、いいや」song by 初音ミク', 'viewCounter': 75601, 'tags': 'baker VOCALOID うp主生還シリーズ ききいるミクうた ミクオリジナル曲 もう、いいや 切ないミクうた 初音ミク 去年1st公式chで新作出てるのバレてないP'}, {'title': '欠乏 / 初音ミク', 'viewCounter': 75304, 'tags': '3774. VOCALOID VOCALOID処女作 VOCALOID新曲リンク お洒落なミクうた クールなミクうた ミクオリジナル曲 初音ミク 期待の新人 欠乏(淡雪こだま) 淡雪こだま'}, {'title': '【初音ミク/Hatsune Miku】White Butterfly【オリジナル】MV', 'viewCounter': 73292, 'tags': 'ボカロ ボカロmv ミクオリジナル曲 初音ミク'}, {'title': 'アルトラエレジー / Aqu3ra feat. 初音ミク with.GABULI', 'viewCounter': 72903, 'tags': 'Aqu3ra GABULI VOCALOID ZABI アルトラエレジー クールなミクうた たいやき にへ ポケット（絵師） ミクオリジナル曲 初音ミク'}, {'title': '【初音ミク/Hatsune Miku】Shiny Colors【オリジナル】MV', 'viewCounter': 72234, 'tags': 'nkfactory VOCALOID ボカロ ボカロｍｖ ミクオリジナル曲 初音ミク 結木みお'}, {'title': '無題 ep.01 / 初音ミク', 'viewCounter': 71974, 'tags': 'VOCALOID VOCALOID新曲リンク オリジナル曲 ボカコレ2022春TOP100参加作品 ボカコレ2022春ルーキー参加作品 ミクオリジナル曲 初音ミク 無題_ep.01 薬屋 袖野あらわ'}, {'title': '【プロセカ】にっこり^^調査隊のテーマ・ロングVer./ ワンダーランズ×ショウタイム、ミク、リン、レン', 'viewCounter': 71633, 'tags': 'じーざすp にっこり^^調査隊のテーマ プロジェクトセカイ収録曲 プロセカ ワンダフル☆オポチュニティ! ワンダーランズ×ショウタイム 初音ミク 鏡音リン 鏡音レン'}], 'meta': {'id': 'a12e5ec3-f4e4-4dd8-8dcb-27f54a72fe45', 'totalCount': 17800, 'status': 200}}\n"
     ]
    }
   ],
   "source": [
    "print(data)"
   ]
  },
  {
   "cell_type": "markdown",
   "metadata": {},
   "source": []
  },
  {
   "cell_type": "code",
   "execution_count": null,
   "metadata": {},
   "outputs": [],
   "source": []
  },
  {
   "cell_type": "code",
   "execution_count": null,
   "metadata": {},
   "outputs": [],
   "source": []
  },
  {
   "cell_type": "code",
   "execution_count": null,
   "metadata": {},
   "outputs": [],
   "source": []
  }
 ],
 "metadata": {
  "kernelspec": {
   "display_name": "Python 3.9.10 64-bit",
   "name": "python3910jvsc74a57bd0ac2eaa0ea0ebeafcc7822e65e46aa9d4f966f30b695406963e145ea4a91cd4fc"
  },
  "language_info": {
   "codemirror_mode": {
    "name": "ipython",
    "version": 3
   },
   "file_extension": ".py",
   "mimetype": "text/x-python",
   "name": "python",
   "nbconvert_exporter": "python",
   "pygments_lexer": "ipython3",
   "version": "3.9.10"
  },
  "metadata": {
   "interpreter": {
    "hash": "ac2eaa0ea0ebeafcc7822e65e46aa9d4f966f30b695406963e145ea4a91cd4fc"
   }
  },
  "orig_nbformat": 2
 },
 "nbformat": 4,
 "nbformat_minor": 2
}