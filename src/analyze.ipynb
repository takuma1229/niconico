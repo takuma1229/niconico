{
 "cells": [
  {
   "cell_type": "code",
   "execution_count": 34,
   "metadata": {},
   "outputs": [],
   "source": [
    "import sys\n",
    "sys.path.append(\"/Users/ruinz/.pyenv/versions/3.9.5/lib/python3.9/site-packages\")\n",
    "import pandas as pd\n",
    "from pandas_profiling import ProfileReport\n",
    "import numpy as np\n",
    "from scipy import stats\n",
    "pd.options.display.float_format = '{:.3f}'.format\n"
   ]
  },
  {
   "cell_type": "code",
   "execution_count": 35,
   "metadata": {},
   "outputs": [],
   "source": [
    "df_miku = pd.read_csv(\"./miku_data.csv\")\n",
    "df_kafu = pd.read_csv(\"./kafu_data.csv\")"
   ]
  },
  {
   "cell_type": "markdown",
   "metadata": {},
   "source": [
    "##　基本統計量の確認"
   ]
  },
  {
   "cell_type": "code",
   "execution_count": 36,
   "metadata": {},
   "outputs": [
    {
     "data": {
      "text/html": "<div>\n<style scoped>\n    .dataframe tbody tr th:only-of-type {\n        vertical-align: middle;\n    }\n\n    .dataframe tbody tr th {\n        vertical-align: top;\n    }\n\n    .dataframe thead th {\n        text-align: right;\n    }\n</style>\n<table border=\"1\" class=\"dataframe\">\n  <thead>\n    <tr style=\"text-align: right;\">\n      <th></th>\n      <th>ViewCount</th>\n    </tr>\n  </thead>\n  <tbody>\n    <tr>\n      <th>count</th>\n      <td>7388.000</td>\n    </tr>\n    <tr>\n      <th>mean</th>\n      <td>3015.510</td>\n    </tr>\n    <tr>\n      <th>std</th>\n      <td>30519.889</td>\n    </tr>\n    <tr>\n      <th>min</th>\n      <td>13.000</td>\n    </tr>\n    <tr>\n      <th>25%</th>\n      <td>87.000</td>\n    </tr>\n    <tr>\n      <th>50%</th>\n      <td>158.000</td>\n    </tr>\n    <tr>\n      <th>75%</th>\n      <td>502.000</td>\n    </tr>\n    <tr>\n      <th>max</th>\n      <td>1276098.000</td>\n    </tr>\n  </tbody>\n</table>\n</div>",
      "text/plain": "        ViewCount\ncount    7388.000\nmean     3015.510\nstd     30519.889\nmin        13.000\n25%        87.000\n50%       158.000\n75%       502.000\nmax   1276098.000"
     },
     "execution_count": 36,
     "metadata": {},
     "output_type": "execute_result"
    }
   ],
   "source": [
    "df_miku.describe()"
   ]
  },
  {
   "cell_type": "code",
   "execution_count": 37,
   "metadata": {},
   "outputs": [
    {
     "data": {
      "text/html": "<div>\n<style scoped>\n    .dataframe tbody tr th:only-of-type {\n        vertical-align: middle;\n    }\n\n    .dataframe tbody tr th {\n        vertical-align: top;\n    }\n\n    .dataframe thead th {\n        text-align: right;\n    }\n</style>\n<table border=\"1\" class=\"dataframe\">\n  <thead>\n    <tr style=\"text-align: right;\">\n      <th></th>\n      <th>ViewCount</th>\n    </tr>\n  </thead>\n  <tbody>\n    <tr>\n      <th>count</th>\n      <td>1695.000</td>\n    </tr>\n    <tr>\n      <th>mean</th>\n      <td>3579.819</td>\n    </tr>\n    <tr>\n      <th>std</th>\n      <td>19707.376</td>\n    </tr>\n    <tr>\n      <th>min</th>\n      <td>9.000</td>\n    </tr>\n    <tr>\n      <th>25%</th>\n      <td>128.500</td>\n    </tr>\n    <tr>\n      <th>50%</th>\n      <td>281.000</td>\n    </tr>\n    <tr>\n      <th>75%</th>\n      <td>1005.000</td>\n    </tr>\n    <tr>\n      <th>max</th>\n      <td>465680.000</td>\n    </tr>\n  </tbody>\n</table>\n</div>",
      "text/plain": "       ViewCount\ncount   1695.000\nmean    3579.819\nstd    19707.376\nmin        9.000\n25%      128.500\n50%      281.000\n75%     1005.000\nmax   465680.000"
     },
     "execution_count": 37,
     "metadata": {},
     "output_type": "execute_result"
    }
   ],
   "source": [
    "df_kafu.describe()"
   ]
  },
  {
   "cell_type": "code",
   "execution_count": 38,
   "metadata": {},
   "outputs": [],
   "source": [
    "miku_view_counts = np.array(df_miku[\"ViewCount\"].to_list())\n",
    "kafu_view_counts = np.array(df_kafu[\"ViewCount\"].to_list())\n"
   ]
  },
  {
   "cell_type": "markdown",
   "metadata": {},
   "source": [
    "## 等分散性を判定するため、F検定を行う"
   ]
  },
  {
   "cell_type": "code",
   "execution_count": 43,
   "metadata": {},
   "outputs": [
    {
     "name": "stdout",
     "output_type": "stream",
     "text": [
      "F:        2.398\n",
      "p-value:  8.692999999999995e-97\n"
     ]
    }
   ],
   "source": [
    "miku_var = np.var(miku_view_counts, ddof=1)  # miku_view_countsの不偏分散\n",
    "kafu_var = np.var(kafu_view_counts, ddof=1)  # kafu_view_countsの不偏分散\n",
    "miku_degree_of_freedom = len(miku_view_counts) - 1  # miku_view_countsの自由度\n",
    "kafu_degree_of_freedom = len(kafu_view_counts) - 1  # kafu_view_countの自由度\n",
    "f = miku_var / kafu_var  # F比の値\n",
    "one_sided_pval1 = stats.f.cdf(f, miku_degree_of_freedom, kafu_degree_of_freedom)  # 片側検定のp値 1\n",
    "one_sided_pval2 = stats.f.sf(f, miku_degree_of_freedom, kafu_degree_of_freedom)   # 片側検定のp値 2\n",
    "two_sided_pval = min(one_sided_pval1, one_sided_pval2) * 2  # 両側検定のp値\n",
    "\n",
    "print(f\"不偏分散  miku:{miku_var}  kafu:{kafu_var}\")\n",
    "print('F:       ', round(f, 3))\n",
    "print('p-value: ', round(two_sided_pval, 100))"
   ]
  },
  {
   "cell_type": "markdown",
   "metadata": {},
   "source": [
    "## 不等分散性が確認できたため、Welchのt検定を行う"
   ]
  },
  {
   "cell_type": "code",
   "execution_count": 44,
   "metadata": {},
   "outputs": [
    {
     "data": {
      "text/plain": "Ttest_indResult(statistic=-0.9468352144099547, pvalue=0.3437828511269754)"
     },
     "execution_count": 44,
     "metadata": {},
     "output_type": "execute_result"
    }
   ],
   "source": [
    "stats.ttest_ind(miku_view_counts, kafu_view_counts, equal_var=False)"
   ]
  },
  {
   "cell_type": "code",
   "execution_count": null,
   "metadata": {},
   "outputs": [],
   "source": []
  }
 ],
 "metadata": {
  "kernelspec": {
   "display_name": "Python 3.9.10 64-bit",
   "name": "python3910jvsc74a57bd0ac2eaa0ea0ebeafcc7822e65e46aa9d4f966f30b695406963e145ea4a91cd4fc"
  },
  "language_info": {
   "codemirror_mode": {
    "name": "ipython",
    "version": 3
   },
   "file_extension": ".py",
   "mimetype": "text/x-python",
   "name": "python",
   "nbconvert_exporter": "python",
   "pygments_lexer": "ipython3",
   "version": "3.9.10"
  },
  "metadata": {
   "interpreter": {
    "hash": "ac2eaa0ea0ebeafcc7822e65e46aa9d4f966f30b695406963e145ea4a91cd4fc"
   }
  },
  "orig_nbformat": 2
 },
 "nbformat": 4,
 "nbformat_minor": 2
}